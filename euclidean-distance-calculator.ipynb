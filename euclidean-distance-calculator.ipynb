{
 "cells": [
  {
   "cell_type": "code",
   "execution_count": 4,
   "id": "259fe166-55bd-4791-9b67-3a1e20e02143",
   "metadata": {},
   "outputs": [],
   "source": [
    "points=[]"
   ]
  },
  {
   "cell_type": "code",
   "execution_count": null,
   "id": "26b01758-7949-4be9-a70e-90f6737d85ad",
   "metadata": {},
   "outputs": [],
   "source": [
    "def euclideanDistance(x,y):"
   ]
  },
  {
   "cell_type": "code",
   "execution_count": 8,
   "id": "3713dd8e-8217-40de-911d-b66309e9df2c",
   "metadata": {},
   "outputs": [
    {
     "name": "stdout",
     "output_type": "stream",
     "text": [
      "Noktalar: [(2, 3), (5, 7), (1, 9), (8, 2)]\n",
      "Hesaplanan Mesafeler: [5.0, 6.082762530298219, 6.082762530298219, 4.47213595499958, 5.830951894845301, 9.899494936611665]\n",
      "Minimum Mesafe: 4.472136\n"
     ]
    }
   ],
   "source": [
    "# Noktalar listesi\n",
    "define_points = [(2, 3), (5, 7), (1, 9), (8, 2)]\n",
    "\n",
    "# Öklid Mesafesi hesaplayan fonksiyon\n",
    "def euclideanDistance(point1, point2):\n",
    "    x1, y1 = point1\n",
    "    x2, y2 = point2\n",
    "    return ((x2 - x1)**2 + (y2 - y1)**2)**0.5\n",
    "\n",
    "# Mesafeleri hesaplama ve saklama\n",
    "def calculate_distances(points):\n",
    "    distances = []\n",
    "    for i in range(len(points)):\n",
    "        for j in range(i + 1, len(points)):\n",
    "            distance = euclideanDistance(points[i], points[j])\n",
    "            distances.append(distance)\n",
    "    return distances\n",
    "\n",
    "# Minimum mesafeyi bulma ve yazdırma\n",
    "def find_min_distance(distances):\n",
    "    return min(distances)\n",
    "\n",
    "# Program çalıştırma\n",
    "points = define_points\n",
    "distances = calculate_distances(points)\n",
    "minimum_distance = find_min_distance(distances)\n",
    "\n",
    "# Sonuçları yazdır\n",
    "print(f\"Noktalar: {points}\")\n",
    "print(f\"Hesaplanan Mesafeler: {distances}\")\n",
    "print(f\"Minimum Mesafe: {minimum_distance:f}\")\n"
   ]
  },
  {
   "cell_type": "code",
   "execution_count": null,
   "id": "62c26463-4343-44f9-ad90-ded01f2adb90",
   "metadata": {},
   "outputs": [],
   "source": []
  }
 ],
 "metadata": {
  "kernelspec": {
   "display_name": "Python 3 (ipykernel)",
   "language": "python",
   "name": "python3"
  },
  "language_info": {
   "codemirror_mode": {
    "name": "ipython",
    "version": 3
   },
   "file_extension": ".py",
   "mimetype": "text/x-python",
   "name": "python",
   "nbconvert_exporter": "python",
   "pygments_lexer": "ipython3",
   "version": "3.12.4"
  }
 },
 "nbformat": 4,
 "nbformat_minor": 5
}
